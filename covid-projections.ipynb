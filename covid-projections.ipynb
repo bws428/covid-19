{
 "cells": [
  {
   "cell_type": "markdown",
   "metadata": {},
   "source": [
    "# Projecting Growth of Coronavirus Cases in the U.S."
   ]
  },
  {
   "cell_type": "code",
   "execution_count": 1,
   "metadata": {},
   "outputs": [],
   "source": [
    "import numpy as np\n",
    "import pandas as pd\n",
    "import seaborn as sns\n",
    "import matplotlib as mpl\n",
    "import matplotlib.pyplot as plt\n",
    "from scipy.optimize import curve_fit\n",
    "sns.set(style='darkgrid')"
   ]
  },
  {
   "cell_type": "code",
   "execution_count": 2,
   "metadata": {},
   "outputs": [],
   "source": [
    "%matplotlib inline"
   ]
  },
  {
   "cell_type": "markdown",
   "metadata": {},
   "source": [
    "## Johns Hopkins Coronavirus Dataset"
   ]
  },
  {
   "cell_type": "code",
   "execution_count": 3,
   "metadata": {},
   "outputs": [],
   "source": [
    "# Johns Hopkins COVID-19 time series datasets on GitHub\n",
    "base_url = 'https://raw.githubusercontent.com/CSSEGISandData/COVID-19/master/'\n",
    "data_dir = 'csse_covid_19_data/csse_covid_19_time_series/'\n",
    "source_url = base_url + data_dir\n",
    "\n",
    "# Global Cases/Deaths/Recovered by country\n",
    "cases_csv = 'time_series_covid19_confirmed_global.csv'\n",
    "deaths_csv = 'time_series_covid19_deaths_global.csv'\n",
    "recovered_csv = 'time_series_covid19_recovered_global.csv'\n",
    "\n",
    "# Full URLs to datasets\n",
    "cases_url = source_url + cases_csv\n",
    "deaths_url = source_url + deaths_csv\n",
    "recovered_url = source_url + recovered_csv"
   ]
  },
  {
   "cell_type": "markdown",
   "metadata": {},
   "source": [
    "## Confirmed Cases"
   ]
  },
  {
   "cell_type": "code",
   "execution_count": 4,
   "metadata": {},
   "outputs": [
    {
     "data": {
      "text/html": [
       "<div>\n",
       "<style scoped>\n",
       "    .dataframe tbody tr th:only-of-type {\n",
       "        vertical-align: middle;\n",
       "    }\n",
       "\n",
       "    .dataframe tbody tr th {\n",
       "        vertical-align: top;\n",
       "    }\n",
       "\n",
       "    .dataframe thead th {\n",
       "        text-align: right;\n",
       "    }\n",
       "</style>\n",
       "<table border=\"1\" class=\"dataframe\">\n",
       "  <thead>\n",
       "    <tr style=\"text-align: right;\">\n",
       "      <th></th>\n",
       "      <th>date</th>\n",
       "      <th>infected</th>\n",
       "    </tr>\n",
       "  </thead>\n",
       "  <tbody>\n",
       "    <tr>\n",
       "      <th>61</th>\n",
       "      <td>3/23/20</td>\n",
       "      <td>43847</td>\n",
       "    </tr>\n",
       "    <tr>\n",
       "      <th>62</th>\n",
       "      <td>3/24/20</td>\n",
       "      <td>53740</td>\n",
       "    </tr>\n",
       "    <tr>\n",
       "      <th>63</th>\n",
       "      <td>3/25/20</td>\n",
       "      <td>65778</td>\n",
       "    </tr>\n",
       "    <tr>\n",
       "      <th>64</th>\n",
       "      <td>3/26/20</td>\n",
       "      <td>83836</td>\n",
       "    </tr>\n",
       "    <tr>\n",
       "      <th>65</th>\n",
       "      <td>3/27/20</td>\n",
       "      <td>101657</td>\n",
       "    </tr>\n",
       "  </tbody>\n",
       "</table>\n",
       "</div>"
      ],
      "text/plain": [
       "       date  infected\n",
       "61  3/23/20     43847\n",
       "62  3/24/20     53740\n",
       "63  3/25/20     65778\n",
       "64  3/26/20     83836\n",
       "65  3/27/20    101657"
      ]
     },
     "execution_count": 4,
     "metadata": {},
     "output_type": "execute_result"
    }
   ],
   "source": [
    "# Global Confirmed Cases\n",
    "cases_global = pd.read_csv(cases_url, index_col='Country/Region').drop(\n",
    "    columns=['Province/State', 'Lat', 'Long'])\n",
    "\n",
    "# US Confirmed Cases\n",
    "cases_US = cases_global.loc['US']\n",
    "cases_US = pd.DataFrame(data=cases_US)\n",
    "cases_US = cases_US.reset_index()\n",
    "cases_US = cases_US.rename(columns={'US': 'infected', 'index':'date'})\n",
    "cases_US.tail(5)"
   ]
  },
  {
   "cell_type": "markdown",
   "metadata": {},
   "source": [
    "## Curve Fitting"
   ]
  },
  {
   "cell_type": "code",
   "execution_count": 5,
   "metadata": {},
   "outputs": [],
   "source": [
    "# Fill in (zeros) data through Jan 21, then add US cases\n",
    "ydata = [0] * 21\n",
    "ydata.extend(cases_US['infected'].tolist())\n",
    "xdata = np.arange(len(ydata))\n",
    "\n",
    "# Get the day of the year for today\n",
    "today = len(ydata) - 1\n",
    "\n",
    "# Get the date for the most recent entry\n",
    "latest = cases_US.loc[len(cases_US)-1,'date']"
   ]
  },
  {
   "cell_type": "code",
   "execution_count": 6,
   "metadata": {},
   "outputs": [],
   "source": [
    "# Number of Cases (Gompertz function)\n",
    "# https://elm.nsupdate.info/maths.html\n",
    "def N(x, d, T2, Nmax):\n",
    "    return Nmax * np.exp( -np.exp( -np.log(2) / T2 * (x-d) ) )"
   ]
  },
  {
   "cell_type": "code",
   "execution_count": 7,
   "metadata": {},
   "outputs": [
    {
     "name": "stdout",
     "output_type": "stream",
     "text": [
      "d=103.616, T2=10.986, Nmax=2.120e+06\n"
     ]
    }
   ],
   "source": [
    "# SciPy curve fit\n",
    "popt, pcov = curve_fit(N, xdata, ydata)\n",
    "\n",
    "print(\"d={:4.3f}, T2={:4.3f}, Nmax={:4.3e}\".format(*tuple(popt)))"
   ]
  },
  {
   "cell_type": "markdown",
   "metadata": {},
   "source": [
    "## Projected COVID Cases, USA"
   ]
  },
  {
   "cell_type": "code",
   "execution_count": 29,
   "metadata": {
    "scrolled": true
   },
   "outputs": [
    {
     "data": {
      "image/png": "[encoded data removed]",
      "text/plain": [
       "<Figure size 1008x720 with 1 Axes>"
      ]
     },
     "metadata": {
      "needs_background": "light"
     },
     "output_type": "display_data"
    }
   ],
   "source": [
    "# Set up the figure\n",
    "f = plt.figure(figsize=(14,10))\n",
    "plt.xlabel('Day of the Year, 2020', labelpad=18)\n",
    "plt.ylabel('Number of Infected', labelpad=18)\n",
    "plt.title(\"Projected COVID-19 Cases, USA\", fontsize=18, pad=18)\n",
    "\n",
    "# Plot the Gompertz fit for previous cases, plus project 30 days ahead\n",
    "days = np.arange(len(xdata) + 30)\n",
    "plt.plot(days, N(days, *popt), '-', lw=3, label='Projected COVID Cases (Gompertz fit)')\n",
    "\n",
    "# Scatterplot every nth day of confirmed cases\n",
    "n = 5\n",
    "x, y = xdata[::n], ydata[::n]\n",
    "plt.scatter(x, y, marker='x', color='r',\n",
    "    label='Historical Confirmed Cases (Johns Hopkins Data)')\n",
    "\n",
    "# Plot a point representing today's total cases\n",
    "plt.plot(today, ydata[today], \"D\", color='darkorange', ms=10,\n",
    "    label='{:,} Confirmed Cases on {}'.format(ydata[today], latest))\n",
    "\n",
    "# Format y-axis labels with thousands separator\n",
    "ax = plt.gca()\n",
    "ax.get_yaxis().set_major_formatter(\n",
    "mpl.ticker.FuncFormatter(lambda x, p: format(int(x), ',')))\n",
    "\n",
    "# Show the figure with legend\n",
    "ax.legend(loc='upper left', fontsize=12)\n",
    "plt.show()\n",
    "\n",
    "# Save the figure as PNG\n",
    "f.savefig(\"covid-{}.png\".format(latest.replace('/','.')), dpi=400)"
   ]
  },
  {
   "cell_type": "code",
   "execution_count": null,
   "metadata": {},
   "outputs": [],
   "source": []
  }
 ],
 "metadata": {
  "kernelspec": {
   "display_name": "Python 3",
   "language": "python",
   "name": "python3"
  },
  "language_info": {
   "codemirror_mode": {
    "name": "ipython",
    "version": 3
   },
   "file_extension": ".py",
   "mimetype": "text/x-python",
   "name": "python",
   "nbconvert_exporter": "python",
   "pygments_lexer": "ipython3",
   "version": "3.8.2"
  }
 },
 "nbformat": 4,
 "nbformat_minor": 4
}
